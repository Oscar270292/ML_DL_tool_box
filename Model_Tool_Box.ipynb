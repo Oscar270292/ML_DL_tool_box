{
  "nbformat": 4,
  "nbformat_minor": 0,
  "metadata": {
    "colab": {
      "provenance": [],
      "authorship_tag": "ABX9TyNl5NCPvm2L2yp8AtcVnTDX",
      "include_colab_link": true
    },
    "kernelspec": {
      "name": "python3",
      "display_name": "Python 3"
    },
    "language_info": {
      "name": "python"
    }
  },
  "cells": [
    {
      "cell_type": "markdown",
      "metadata": {
        "id": "view-in-github",
        "colab_type": "text"
      },
      "source": [
        "<a href=\"https://colab.research.google.com/github/Oscar270292/ML_DL_tool_box/blob/main/Model_Tool_Box.ipynb\" target=\"_parent\"><img src=\"https://colab.research.google.com/assets/colab-badge.svg\" alt=\"Open In Colab\"/></a>"
      ]
    },
    {
      "cell_type": "markdown",
      "source": [
        "```\n",
        "📦 Model_Tool_Box: Modular and Extensible ML/DL Model Framework\n",
        "\n",
        "`Model_Tool_Box` is a unified framework for building, training, comparing, and managing common ML/DL models such as Linear Regression, LSTM, RNN, GRU, RandomForest, and GradientBoosting. Core features include:\n",
        "\n",
        "- 🧱 Unified `BaseModel` class with standardized `.fit()`, `.predict()`, `.evaluate()` interface\n",
        "- 💾 Built-in `.save()` / `.load()` for model serialization\n",
        "- 📉 `.plot_training_loss()` for easy visualization\n",
        "- ⚙️ Configuration via YAML or Python `dict`\n",
        "- 🏭 `ModelFactory` for dynamic model instantiation by name + hyperparameters\n",
        "- 🧠 Compatible with both `scikit-learn` and `PyTorch`\n",
        "- 🔧 Clean file structure for easy extension\n",
        "```\n",
        "\n"
      ],
      "metadata": {
        "id": "QPQr8QjB4ufV"
      }
    },
    {
      "cell_type": "markdown",
      "source": [
        "# **Base Model**"
      ],
      "metadata": {
        "id": "6vOwckqR5tbX"
      }
    },
    {
      "cell_type": "code",
      "source": [
        "from abc import ABC, abstractmethod\n",
        "import joblib\n",
        "import os\n",
        "import matplotlib.pyplot as plt\n",
        "\n",
        "class BaseModel(ABC):\n",
        "    def __init__(self):\n",
        "        self.train_losses = []\n",
        "\n",
        "    @abstractmethod\n",
        "    def fit(self, X_train, y_train, **kwargs):\n",
        "        pass\n",
        "\n",
        "    @abstractmethod\n",
        "    def predict(self, X_test):\n",
        "        pass\n",
        "\n",
        "    @abstractmethod\n",
        "    def evaluate(self, X_test, y_test):\n",
        "        pass\n",
        "\n",
        "    def save(self, filepath):\n",
        "        os.makedirs(os.path.dirname(filepath), exist_ok=True)\n",
        "        joblib.dump(self, filepath)\n",
        "        print(f\"[Model Saved] {filepath}\")\n",
        "\n",
        "    @classmethod\n",
        "    def load(cls, filepath):\n",
        "        model = joblib.load(filepath)\n",
        "        print(f\"[Model Loaded] {filepath}\")\n",
        "        return model\n",
        "\n",
        "    def plot_training_loss(self):\n",
        "        if not self.train_losses:\n",
        "            print(\"No training losses recorded.\")\n",
        "            return\n",
        "        plt.plot(self.train_losses)\n",
        "        plt.title(\"Training Loss Curve\")\n",
        "        plt.xlabel(\"Epoch\")\n",
        "        plt.ylabel(\"Loss\")\n",
        "        plt.grid(True)\n",
        "        plt.show()\n"
      ],
      "metadata": {
        "id": "S3CNszsn4td9"
      },
      "execution_count": null,
      "outputs": []
    },
    {
      "cell_type": "markdown",
      "source": [
        "# **Linear Regression**"
      ],
      "metadata": {
        "id": "jm3kk1lS56f0"
      }
    },
    {
      "cell_type": "code",
      "execution_count": null,
      "metadata": {
        "id": "ds7gAbwqzoTF"
      },
      "outputs": [],
      "source": [
        "from sklearn.linear_model import LinearRegression\n",
        "from sklearn.metrics import mean_squared_error\n",
        "\n",
        "class LinearRegressionModel(BaseModel):\n",
        "    def __init__(self):\n",
        "        super().__init__()\n",
        "        self.model = LinearRegression()\n",
        "\n",
        "    def fit(self, X_train, y_train, **kwargs):\n",
        "        self.model.fit(X_train, y_train)\n",
        "        # sklearn 沒有 epoch，所以手動記錄一次 loss\n",
        "        y_pred = self.model.predict(X_train)\n",
        "        loss = mean_squared_error(y_train, y_pred)\n",
        "        self.train_losses.append(loss)\n",
        "\n",
        "    def predict(self, X_test):\n",
        "        return self.model.predict(X_test)\n",
        "\n",
        "    def evaluate(self, X_test, y_test):\n",
        "        y_pred = self.predict(X_test)\n",
        "        return mean_squared_error(y_test, y_pred)\n"
      ]
    },
    {
      "cell_type": "markdown",
      "source": [
        "# **RandomForestModel**"
      ],
      "metadata": {
        "id": "l-2xA6SHkyRY"
      }
    },
    {
      "cell_type": "code",
      "source": [
        "from sklearn.ensemble import RandomForestRegressor\n",
        "from sklearn.metrics import mean_squared_error\n",
        "\n",
        "class RandomForestModel(BaseModel):\n",
        "    def __init__(self, n_estimators=100, max_depth=None):\n",
        "        super().__init__()\n",
        "        self.model = RandomForestRegressor(n_estimators=n_estimators, max_depth=max_depth)\n",
        "\n",
        "    def fit(self, X_train, y_train, **kwargs):\n",
        "        self.model.fit(X_train, y_train)\n",
        "        y_pred = self.model.predict(X_train)\n",
        "        loss = mean_squared_error(y_train, y_pred)\n",
        "        self.train_losses.append(loss)\n",
        "\n",
        "    def predict(self, X_test):\n",
        "        return self.model.predict(X_test)\n",
        "\n",
        "    def evaluate(self, X_test, y_test):\n",
        "        y_pred = self.predict(X_test)\n",
        "        return mean_squared_error(y_test, y_pred)\n"
      ],
      "metadata": {
        "id": "-K-nYqn5kzPe"
      },
      "execution_count": null,
      "outputs": []
    },
    {
      "cell_type": "markdown",
      "source": [
        "# **GradientBoostingModel**"
      ],
      "metadata": {
        "id": "EfZSEUFVlAOE"
      }
    },
    {
      "cell_type": "code",
      "source": [
        "from sklearn.ensemble import GradientBoostingRegressor\n",
        "\n",
        "class GradientBoostingModel(BaseModel):\n",
        "    def __init__(self, n_estimators=100, learning_rate=0.1, max_depth=3):\n",
        "        super().__init__()\n",
        "        self.model = GradientBoostingRegressor(n_estimators=n_estimators, learning_rate=learning_rate, max_depth=max_depth)\n",
        "\n",
        "    def fit(self, X_train, y_train, **kwargs):\n",
        "        self.model.fit(X_train, y_train)\n",
        "        y_pred = self.model.predict(X_train)\n",
        "        loss = mean_squared_error(y_train, y_pred)\n",
        "        self.train_losses.append(loss)\n",
        "\n",
        "    def predict(self, X_test):\n",
        "        return self.model.predict(X_test)\n",
        "\n",
        "    def evaluate(self, X_test, y_test):\n",
        "        y_pred = self.predict(X_test)\n",
        "        return mean_squared_error(y_test, y_pred)\n"
      ],
      "metadata": {
        "id": "zcb4fLNplAjH"
      },
      "execution_count": null,
      "outputs": []
    },
    {
      "cell_type": "markdown",
      "source": [
        "# **RNN**\n"
      ],
      "metadata": {
        "id": "FrhL21CXlb97"
      }
    },
    {
      "cell_type": "code",
      "source": [
        "import torch\n",
        "import torch.nn as nn\n",
        "\n",
        "class RNNModel(BaseModel):\n",
        "    def __init__(self, input_size, hidden_size, num_layers=1, output_size=1):\n",
        "        super().__init__()\n",
        "        self.rnn = nn.RNN(input_size, hidden_size, num_layers, batch_first=True)\n",
        "        self.fc = nn.Linear(hidden_size, output_size)\n",
        "        self.loss_fn = nn.MSELoss()\n",
        "        self.optimizer = None\n",
        "\n",
        "    def fit(self, X_train, y_train, epochs=10, lr=0.001):\n",
        "        self.optimizer = torch.optim.Adam(list(self.rnn.parameters()) + list(self.fc.parameters()), lr=lr)\n",
        "        for epoch in range(epochs):\n",
        "            self.rnn.train()\n",
        "            output, _ = self.rnn(X_train)\n",
        "            pred = self.fc(output[:, -1, :])\n",
        "            loss = self.loss_fn(pred, y_train)\n",
        "            self.optimizer.zero_grad()\n",
        "            loss.backward()\n",
        "            self.optimizer.step()\n",
        "            self.train_losses.append(loss.item())\n",
        "\n",
        "    def predict(self, X_test):\n",
        "        self.rnn.eval()\n",
        "        with torch.no_grad():\n",
        "            output, _ = self.rnn(X_test)\n",
        "            pred = self.fc(output[:, -1, :])\n",
        "        return pred\n",
        "\n",
        "    def evaluate(self, X_test, y_test):\n",
        "        pred = self.predict(X_test)\n",
        "        return self.loss_fn(pred, y_test).item()\n"
      ],
      "metadata": {
        "id": "ms-Xw0Amlf_w"
      },
      "execution_count": null,
      "outputs": []
    },
    {
      "cell_type": "markdown",
      "source": [
        "# **GRU**"
      ],
      "metadata": {
        "id": "WIH12jAYlmFV"
      }
    },
    {
      "cell_type": "code",
      "source": [
        "class GRUModel(BaseModel):\n",
        "    def __init__(self, input_size, hidden_size, num_layers=1, output_size=1):\n",
        "        super().__init__()\n",
        "        self.gru = nn.GRU(input_size, hidden_size, num_layers, batch_first=True)\n",
        "        self.fc = nn.Linear(hidden_size, output_size)\n",
        "        self.loss_fn = nn.MSELoss()\n",
        "        self.optimizer = None\n",
        "\n",
        "    def fit(self, X_train, y_train, epochs=10, lr=0.001):\n",
        "        self.optimizer = torch.optim.Adam(list(self.gru.parameters()) + list(self.fc.parameters()), lr=lr)\n",
        "        for epoch in range(epochs):\n",
        "            self.gru.train()\n",
        "            output, _ = self.gru(X_train)\n",
        "            pred = self.fc(output[:, -1, :])\n",
        "            loss = self.loss_fn(pred, y_train)\n",
        "            self.optimizer.zero_grad()\n",
        "            loss.backward()\n",
        "            self.optimizer.step()\n",
        "            self.train_losses.append(loss.item())\n",
        "\n",
        "    def predict(self, X_test):\n",
        "        self.gru.eval()\n",
        "        with torch.no_grad():\n",
        "            output, _ = self.gru(X_test)\n",
        "            pred = self.fc(output[:, -1, :])\n",
        "        return pred\n",
        "\n",
        "    def evaluate(self, X_test, y_test):\n",
        "        pred = self.predict(X_test)\n",
        "        return self.loss_fn(pred, y_test).item()\n"
      ],
      "metadata": {
        "id": "rhpJSdxelpwv"
      },
      "execution_count": null,
      "outputs": []
    },
    {
      "cell_type": "markdown",
      "source": [
        "# **LSTM**"
      ],
      "metadata": {
        "id": "Qbcf7y196NT9"
      }
    },
    {
      "cell_type": "code",
      "source": [
        "import torch\n",
        "import torch.nn as nn\n",
        "\n",
        "class LSTMModel(BaseModel):\n",
        "    def __init__(self, input_size, hidden_size, num_layers=1, output_size=1):\n",
        "        super().__init__()\n",
        "        self.lstm = nn.LSTM(input_size, hidden_size, num_layers, batch_first=True)\n",
        "        self.fc = nn.Linear(hidden_size, output_size)\n",
        "        self.loss_fn = nn.MSELoss()\n",
        "        self.optimizer = None\n",
        "\n",
        "    def fit(self, X_train, y_train, epochs=10, lr=0.001):\n",
        "        self.optimizer = torch.optim.Adam(list(self.lstm.parameters()) + list(self.fc.parameters()), lr=lr)\n",
        "        for epoch in range(epochs):\n",
        "            self.lstm.train()\n",
        "            output, _ = self.lstm(X_train)\n",
        "            pred = self.fc(output[:, -1, :])\n",
        "            loss = self.loss_fn(pred, y_train)\n",
        "            self.optimizer.zero_grad()\n",
        "            loss.backward()\n",
        "            self.optimizer.step()\n",
        "            self.train_losses.append(loss.item())\n",
        "\n",
        "    def predict(self, X_test):\n",
        "        self.lstm.eval()\n",
        "        with torch.no_grad():\n",
        "            output, _ = self.lstm(X_test)\n",
        "            pred = self.fc(output[:, -1, :])\n",
        "        return pred\n",
        "\n",
        "    def evaluate(self, X_test, y_test):\n",
        "        pred = self.predict(X_test)\n",
        "        return self.loss_fn(pred, y_test).item()\n"
      ],
      "metadata": {
        "id": "P9FO-oom6UAu"
      },
      "execution_count": null,
      "outputs": []
    },
    {
      "cell_type": "markdown",
      "source": [
        "# **Config**"
      ],
      "metadata": {
        "id": "v6xwj1_r6NQZ"
      }
    },
    {
      "cell_type": "code",
      "source": [
        "# Jupyter Notebook 裡的 Cell\n",
        "model_config = {\n",
        "    \"LinearRegressionModel\": {\n",
        "        \"module\": \"__main__\",\n",
        "        \"class\": \"LinearRegressionModel\"\n",
        "    },\n",
        "    \"LSTMModel\": {\n",
        "        \"module\": \"__main__\",\n",
        "        \"class\": \"LSTMModel\",\n",
        "        \"input_size\": 10,\n",
        "        \"hidden_size\": 32,\n",
        "        \"num_layers\": 2,\n",
        "        \"output_size\": 1\n",
        "    },\n",
        "    \"RandomForestModel\": {\n",
        "        \"module\": \"__main__\",\n",
        "        \"class\": \"RandomForestModel\",\n",
        "        \"n_estimators\": 100\n",
        "    },\n",
        "    \"GradientBoostingModel\": {\n",
        "        \"module\": \"__main__\",\n",
        "        \"class\": \"GradientBoostingModel\",\n",
        "        \"n_estimators\": 100,\n",
        "        \"learning_rate\": 0.1,\n",
        "        \"max_depth\": 3\n",
        "    },\n",
        "    \"RNNModel\": {\n",
        "        \"module\": \"__main__\",\n",
        "        \"class\": \"RNNModel\",\n",
        "        \"input_size\": 10,\n",
        "        \"hidden_size\": 32,\n",
        "        \"num_layers\": 1,\n",
        "        \"output_size\": 1\n",
        "    },\n",
        "    \"GRUModel\": {\n",
        "        \"module\": \"__main__\",\n",
        "        \"class\": \"GRUModel\",\n",
        "        \"input_size\": 10,\n",
        "        \"hidden_size\": 32,\n",
        "        \"num_layers\": 1,\n",
        "        \"output_size\": 1\n",
        "    }\n",
        "}\n"
      ],
      "metadata": {
        "id": "GicswfwD8IdE"
      },
      "execution_count": null,
      "outputs": []
    },
    {
      "cell_type": "markdown",
      "source": [
        "# **Factory**"
      ],
      "metadata": {
        "id": "ewQf5qX98tki"
      }
    },
    {
      "cell_type": "code",
      "source": [
        "import importlib\n",
        "\n",
        "class ModelFactory:\n",
        "    def __init__(self, config_dict):\n",
        "        self.config = config_dict\n",
        "\n",
        "    def create(self, model_name):\n",
        "        if model_name not in self.config:\n",
        "            raise ValueError(f\"{model_name} not found in config.\")\n",
        "\n",
        "        conf = self.config[model_name]\n",
        "        module = importlib.import_module(conf['module'])  # 如果是 package，要加上 Model_Tool_Box.xxx\n",
        "        class_ = getattr(module, conf['class'])\n",
        "\n",
        "        params = {k: v for k, v in conf.items() if k not in ['module', 'class']}\n",
        "        return class_(**params)\n"
      ],
      "metadata": {
        "id": "YYbWermQ8z8V"
      },
      "execution_count": null,
      "outputs": []
    },
    {
      "cell_type": "code",
      "source": [
        "# ML Model Example\n",
        "from sklearn.datasets import load_diabetes\n",
        "from sklearn.model_selection import train_test_split\n",
        "from sklearn.preprocessing import StandardScaler\n",
        "\n",
        "# 載入並標準化資料\n",
        "X, y = load_diabetes(return_X_y=True)\n",
        "X_train, X_test, y_train, y_test = train_test_split(X, y, test_size=0.2, random_state=42)\n",
        "\n",
        "scaler = StandardScaler()\n",
        "X_train = scaler.fit_transform(X_train)\n",
        "X_test = scaler.transform(X_test)\n",
        "\n",
        "# 使用 ModelFactory 建立並訓練模型\n",
        "factory = ModelFactory(model_config)\n",
        "# model = factory.create(\"LinearRegressionModel\")\n",
        "# model = factory.create(\"RandomForestModel\")\n",
        "model = factory.create(\"GradientBoostingModel\")\n",
        "model.fit(X_train, y_train)\n",
        "\n",
        "mse = model.evaluate(X_test, y_test)\n",
        "print(f\"Test MSE: {mse:.2f}\")\n"
      ],
      "metadata": {
        "colab": {
          "base_uri": "https://localhost:8080/"
        },
        "id": "WCX5pV3FcEey",
        "outputId": "7cec60d6-168f-45e2-fb0b-093607130b98"
      },
      "execution_count": null,
      "outputs": [
        {
          "output_type": "stream",
          "name": "stdout",
          "text": [
            "Test MSE: 2919.95\n"
          ]
        }
      ]
    },
    {
      "cell_type": "code",
      "source": [
        "# NN model Example\n",
        "import torch\n",
        "\n",
        "# 假設只有一個時間步（seq_len=1）\n",
        "X_train_tensor = torch.tensor(X_train, dtype=torch.float32).unsqueeze(1)  # shape: (batch, 1, features)\n",
        "y_train_tensor = torch.tensor(y_train, dtype=torch.float32).unsqueeze(1)  # shape: (batch, 1)\n",
        "\n",
        "X_test_tensor = torch.tensor(X_test, dtype=torch.float32).unsqueeze(1)\n",
        "y_test_tensor = torch.tensor(y_test, dtype=torch.float32).unsqueeze(1)\n",
        "\n",
        "factory = ModelFactory(model_config)\n",
        "model = factory.create(\"LSTMModel\")\n",
        "model = factory.create(\"GRUModel\")\n",
        "model = factory.create(\"RNNModel\")\n",
        "model.fit(X_train_tensor, y_train_tensor, epochs=250, lr=0.001)\n",
        "print(\"Test Loss:\", model.evaluate(X_test_tensor, y_test_tensor))\n",
        "model.plot_training_loss()\n"
      ],
      "metadata": {
        "colab": {
          "base_uri": "https://localhost:8080/",
          "height": 490
        },
        "id": "lJS1BOY-iW01",
        "outputId": "f0a49717-0d61-4f84-b6c3-9d43ef5c9ce8"
      },
      "execution_count": null,
      "outputs": [
        {
          "output_type": "stream",
          "name": "stdout",
          "text": [
            "Test Loss: 24487.4609375\n"
          ]
        },
        {
          "output_type": "display_data",
          "data": {
            "text/plain": [
              "<Figure size 640x480 with 1 Axes>"
            ],
            "image/png": "[encoded data removed]"
          },
          "metadata": {}
        }
      ]
    }
  ]
}